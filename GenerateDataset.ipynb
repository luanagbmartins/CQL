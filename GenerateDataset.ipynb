{
 "cells": [
  {
   "cell_type": "code",
   "execution_count": 5,
   "id": "stuck-worcester",
   "metadata": {},
   "outputs": [],
   "source": [
    "import os\n",
    "import json\n",
    "from tqdm import tqdm\n",
    "import numpy as np\n",
    "import pandas as pd\n",
    "\n",
    "import ray\n",
    "from ray.rllib.offline.json_writer import JsonWriter\n",
    "from ray.rllib.offline.json_reader import JsonReader\n",
    "from ray.rllib.evaluation.sample_batch_builder import SampleBatchBuilder\n",
    "\n",
    "import gzip\n",
    "import pickle\n",
    "\n",
    "from dopamine.replay_memory import circular_replay_buffer\n",
    "from dopamine.replay_memory import prioritized_replay_buffer\n",
    "\n",
    "import gin\n",
    "import tensorflow.compat.v1 as tf"
   ]
  },
  {
   "cell_type": "code",
   "execution_count": 6,
   "id": "saved-hotel",
   "metadata": {},
   "outputs": [],
   "source": [
    "from batch_rl.batch_rl.baselines.replay_memory import logged_prioritized_replay_buffer\n",
    "\n",
    "replay = logged_prioritized_replay_buffer.WrappedLoggedPrioritizedReplayBuffer(\n",
    "        log_dir=\"AC_datasets/v5_scoremax_test_dataset_cql/replay_logs\",\n",
    "        observation_shape=(80,),\n",
    "        stack_size=1,\n",
    "        use_staging=False,\n",
    "        update_horizon=1,\n",
    "        gamma=0.99,\n",
    "        observation_dtype=np.float32\n",
    ")"
   ]
  },
  {
   "cell_type": "code",
   "execution_count": 7,
   "id": "elder-shoulder",
   "metadata": {},
   "outputs": [
    {
     "data": {
      "text/plain": [
       "81"
      ]
     },
     "execution_count": 7,
     "metadata": {},
     "output_type": "execute_result"
    }
   ],
   "source": [
    "dataset_path = \"ac-pulse-rl/data/processed/v5_dataset/scores_max/test_dataset/\"\n",
    "dataset = []\n",
    "\n",
    "for path in os.listdir(dataset_path):\n",
    "    if not os.path.isfile(os.path.join(dataset_path, path)):\n",
    "        dataset.append(path)\n",
    "dataset = sorted(dataset)\n",
    "len(dataset)"
   ]
  },
  {
   "cell_type": "code",
   "execution_count": 8,
   "id": "sorted-peter",
   "metadata": {},
   "outputs": [
    {
     "name": "stderr",
     "output_type": "stream",
     "text": [
      "100%|██████████| 81/81 [00:04<00:00, 17.98it/s]\n"
     ]
    },
    {
     "name": "stdout",
     "output_type": "stream",
     "text": [
      "INFO:tensorflow:Replay buffer logged to ckpt 0 in AC_datasets/v5_scoremax_test_dataset_cql/replay_logs\n"
     ]
    },
    {
     "name": "stderr",
     "output_type": "stream",
     "text": [
      "INFO:tensorflow:Replay buffer logged to ckpt 0 in AC_datasets/v5_scoremax_test_dataset_cql/replay_logs\n"
     ]
    }
   ],
   "source": [
    "for data in tqdm(dataset):\n",
    "    dataset_files = []\n",
    "    for files in os.listdir(os.path.join(dataset_path, data)):\n",
    "        if os.path.isfile(os.path.join(dataset_path, data, files)):\n",
    "            dataset_files.append(os.path.join(data, files))\n",
    "    dataset_files = sorted(dataset_files)\n",
    "\n",
    "    for dataset_file in dataset_files:\n",
    "        reader = JsonReader(os.path.join(dataset_path, dataset_file))\n",
    "        \n",
    "        with open(os.path.join(dataset_path, dataset_file), \"r\") as f:\n",
    "            sb=f.readlines()\n",
    "\n",
    "        for _ in range(len(sb)):\n",
    "            batch = reader.next()\n",
    "\n",
    "            for i in range(len(batch[\"eps_id\"])):\n",
    "                replay.add(batch[\"obs\"][i], batch[\"actions\"][i], batch[\"rewards\"][i], batch[\"dones\"][i], 1)\n",
    "                \n",
    "replay.memory.log_final_buffer()"
   ]
  },
  {
   "cell_type": "code",
   "execution_count": null,
   "id": "historic-connection",
   "metadata": {},
   "outputs": [],
   "source": []
  }
 ],
 "metadata": {
  "kernelspec": {
   "display_name": "Python 3",
   "language": "python",
   "name": "python3"
  },
  "language_info": {
   "codemirror_mode": {
    "name": "ipython",
    "version": 3
   },
   "file_extension": ".py",
   "mimetype": "text/x-python",
   "name": "python",
   "nbconvert_exporter": "python",
   "pygments_lexer": "ipython3",
   "version": "3.8.5"
  }
 },
 "nbformat": 4,
 "nbformat_minor": 5
}
